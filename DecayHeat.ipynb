{
 "cells": [
  {
   "cell_type": "code",
   "execution_count": 1,
   "metadata": {},
   "outputs": [],
   "source": [
    "import numpy as np\n",
    "import seaborn as sns\n",
    "import matplotlib.ticker as ticker"
   ]
  },
  {
   "cell_type": "markdown",
   "metadata": {},
   "source": [
    "# Формулы расчёта"
   ]
  },
  {
   "cell_type": "markdown",
   "metadata": {},
   "source": [
    "## Формула К. Вай и Э Вигнер\n",
    "$\\frac{W_{\\beta,\\gamma}}{W_0}=6.5 \\cdot 10^{-2}[\\tau_c^{-0.2}-(\\tau_c+T)^{-0.2}]$\n",
    "\n",
    "$W_{\\beta,\\gamma}$ - мощность остаточного тепловыделения ядерного реактора через время $\\tau_c$ после его останова;\n",
    "\n",
    "$W_0$ - мощность ядерного реактора до останова, на которой он работал в течение времени $Т$;\n",
    "\n",
    "Время $\\tau_c$ и $T$ выражено в секундах, а $W_{\\beta,\\gamma}$  и $W_0$— в одинаковых единицах мощности.\n",
    "### Дополнительно\n",
    "Точность неизвестна. Интревал для $\\tau_c=[10...10^5]$ секунд"
   ]
  },
  {
   "cell_type": "code",
   "execution_count": 2,
   "metadata": {},
   "outputs": [],
   "source": [
    "def W_vv(T0, tc, W0):\n",
    "    if min(tc)<10 or max(tc)>10**5 : \n",
    "        print('Значение tc вне допустимого интервала')\n",
    "        return None\n",
    "    return 6.5/(10**2)*(1/(tc**0.2)-(1/((tc+T0)**0.2)))*W0"
   ]
  },
  {
   "cell_type": "markdown",
   "metadata": {},
   "source": [
    "## Формула Уэя-Фингера\n",
    "$\\frac{W_{\\beta,\\gamma}}{W_0}=6.62 \\cdot 10^{-2}[\\tau_c^{-0.2}-(\\tau_c+T)^{-0.2}]$\n",
    "\n",
    "$W_{\\beta,\\gamma}$ - мощность остаточного тепловыделения ядерного реактора через время $\\tau_c$ после его останова;\n",
    "\n",
    "$W_0$ - мощность ядерного реактора до останова, на которой он работал в течение времени $Т$;\n",
    "\n",
    "Время $\\tau_c$ и $T$ выражено в секундах, а $W_{\\beta,\\gamma}$  и $W_0$— в одинаковых единицах мощности.\n",
    "### Дополнительно\n",
    "Точность неизвестна. Интревал для $\\tau_c=[10...10^7]$"
   ]
  },
  {
   "cell_type": "code",
   "execution_count": 3,
   "metadata": {},
   "outputs": [],
   "source": [
    "def W_uf(T0, tc, W0):\n",
    "    if min(tc)<10 or max(tc)>10**7 : \n",
    "        print('Значение tc вне допустимого интервала')\n",
    "        return None\n",
    "    return 6.62/(10**2)*(1/(tc**0.2)-(1/((tc+T0)**0.2)))*W0"
   ]
  },
  {
   "cell_type": "markdown",
   "metadata": {},
   "source": [
    "## Формула Унтер-майер и Уэллс\n",
    "$\n",
    "\\frac{W_{\\beta,\\gamma}}{W_0}=10 \\cdot \\left( \\frac{1}{(t+10)^{0.2}}-\n",
    "\\frac{1}{(t+T_0+10)^{0.2}}+\n",
    "\\frac{1}{(t+2 \\cdot 10^{-1.2})^{0.2}}-\\frac{1}{(t+T_0+2 \\cdot 10^{-1.2})^{0.2}} \\right)\n",
    "$"
   ]
  },
  {
   "cell_type": "code",
   "execution_count": 15,
   "metadata": {},
   "outputs": [],
   "source": [
    "def W_uu(T0, tc, W0):\n",
    "    if min(tc)<1 or max(tc)>10**8 : \n",
    "        print('Значение tc вне допустимого интервала')\n",
    "        return None\n",
    "    return 10*(1/((tc+10)**0.2)-\n",
    "               1/((tc+T0+10)**0.2)+\n",
    "               1/((tc+2/(10**1.2))**0.2) - \n",
    "               1/((tc+T0+2/(10**1.2))**0.2))*W0"
   ]
  },
  {
   "cell_type": "markdown",
   "metadata": {},
   "source": [
    "## Формула Пологих Б.Г.\n",
    "\n",
    "### Дополнительно\n",
    "Точность 50%. Интревал для $\\tau_c=[0,1...10^8]$ секунд"
   ]
  },
  {
   "cell_type": "markdown",
   "metadata": {},
   "source": [
    "## Формула Дементьев Б.А. \n",
    "$\\frac{W_{\\beta,\\gamma}}{W_0}=7.2 \\cdot 10^{-2} \\cdot [\\tau_c^{-0.2}-(\\tau_c+T_0)^{-0.2}]$\n",
    "\n",
    "### Дополнительно\n",
    "Точность 25%. Интревал для $\\tau_c=[10...10^5]$ секунд"
   ]
  },
  {
   "cell_type": "code",
   "execution_count": 5,
   "metadata": {},
   "outputs": [],
   "source": [
    "def W_d(T0, tc, W0):\n",
    "    if min(tc)<10 or max(tc)>10**5 : \n",
    "        print('Значение tc вне допустимого интервала')\n",
    "        return None\n",
    "    return 7.2/(10**2)*(1/(tc**0.2)-(1/((tc+T0)**0.2)))*W0"
   ]
  },
  {
   "cell_type": "markdown",
   "metadata": {},
   "source": [
    "## Проверка"
   ]
  },
  {
   "cell_type": "code",
   "execution_count": 14,
   "metadata": {},
   "outputs": [
    {
     "data": {
      "image/png": "[encoded data removed]",
      "text/plain": [
       "<Figure size 842.4x595.44 with 1 Axes>"
      ]
     },
     "metadata": {},
     "output_type": "display_data"
    }
   ],
   "source": [
    "sns.set(rc={'figure.figsize':(11.7,8.27)})\n",
    "\n",
    "T=60*60*24*1 # 310 дней \n",
    "t=np.arange(10,5*10**4)\n",
    "W0=3100 # МВт\n",
    "ax = sns.lineplot(x=t/60,y=W_vv(T, t, W0)/W0, label='К. Вай и Э Вигнер')\n",
    "ax = sns.lineplot(x=t/60,y=W_uf(T, t, W0)/W0, label ='Уэя-Фингера' )\n",
    "ax = sns.lineplot(x=t/60,y=W_d(T, t, W0)/W0, label = 'Дементьев Б.А.')\n",
    "#ax = sns.lineplot(x=t/60,y=W_uu(T, t, W0)/W0, label = 'Унтер-майер и Уэллс')"
   ]
  }
 ],
 "metadata": {
  "kernelspec": {
   "display_name": "Python 3",
   "language": "python",
   "name": "python3"
  },
  "language_info": {
   "codemirror_mode": {
    "name": "ipython",
    "version": 3
   },
   "file_extension": ".py",
   "mimetype": "text/x-python",
   "name": "python",
   "nbconvert_exporter": "python",
   "pygments_lexer": "ipython3",
   "version": "3.7.9"
  }
 },
 "nbformat": 4,
 "nbformat_minor": 4
}
